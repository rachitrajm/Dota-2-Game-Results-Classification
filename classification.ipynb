{
 "cells": [
  {
   "cell_type": "code",
   "execution_count": 1,
   "metadata": {},
   "outputs": [],
   "source": [
    "import pandas as pd\n",
    "import numpy as np\n",
    "from sklearn.metrics import accuracy_score as acc\n",
    "from sklearn.linear_model import LogisticRegression\n",
    "from sklearn.tree import DecisionTreeClassifier\n",
    "from sklearn.naive_bayes import GaussianNB as GNB\n",
    "from sklearn.naive_bayes import BernoulliNB as BNB\n",
    "from sklearn.naive_bayes import MultinomialNB as MNB\n",
    "from sklearn.model_selection import GridSearchCV as GSCV\n",
    "from sklearn.ensemble import AdaBoostClassifier as ABC\n",
    "from sklearn.preprocessing import MinMaxScaler as MMS\n",
    "from sklearn import metrics\n",
    "import matplotlib.pyplot as plt\n",
    "from sklearn.tree import export_graphviz"
   ]
  },
  {
   "cell_type": "code",
   "execution_count": 2,
   "metadata": {},
   "outputs": [
    {
     "name": "stdout",
     "output_type": "stream",
     "text": [
      "Training Data Shape:  (92650, 115)\n",
      "Testing Data Shape:  (10294, 115)\n"
     ]
    }
   ],
   "source": [
    "training = pd.read_csv('dota2Train.csv', header = None)\n",
    "training = training.loc[:, (training != 0).any(axis=0)] #Removing all 0's attribute\n",
    "training_data = training.iloc[:,1:]\n",
    "training_target = training.iloc[:,0]\n",
    "print(\"Training Data Shape: \",training.shape)\n",
    "\n",
    "testing = pd.read_csv('dota2Test.csv', header = None) #Removing all 0's attribute\n",
    "testing = testing.loc[:, (testing != 0).any(axis=0)]\n",
    "testing_data = testing.iloc[:,1:]\n",
    "testing_target = testing.iloc[:,0]\n",
    "print(\"Testing Data Shape: \",testing.shape)"
   ]
  },
  {
   "cell_type": "code",
   "execution_count": 3,
   "metadata": {},
   "outputs": [
    {
     "data": {
      "text/html": [
       "<div>\n",
       "<style scoped>\n",
       "    .dataframe tbody tr th:only-of-type {\n",
       "        vertical-align: middle;\n",
       "    }\n",
       "\n",
       "    .dataframe tbody tr th {\n",
       "        vertical-align: top;\n",
       "    }\n",
       "\n",
       "    .dataframe thead th {\n",
       "        text-align: right;\n",
       "    }\n",
       "</style>\n",
       "<table border=\"1\" class=\"dataframe\">\n",
       "  <thead>\n",
       "    <tr style=\"text-align: right;\">\n",
       "      <th></th>\n",
       "      <th>0</th>\n",
       "      <th>1</th>\n",
       "      <th>2</th>\n",
       "      <th>3</th>\n",
       "      <th>4</th>\n",
       "      <th>5</th>\n",
       "      <th>6</th>\n",
       "      <th>7</th>\n",
       "      <th>8</th>\n",
       "      <th>9</th>\n",
       "      <th>...</th>\n",
       "      <th>106</th>\n",
       "      <th>107</th>\n",
       "      <th>108</th>\n",
       "      <th>109</th>\n",
       "      <th>110</th>\n",
       "      <th>112</th>\n",
       "      <th>113</th>\n",
       "      <th>114</th>\n",
       "      <th>115</th>\n",
       "      <th>116</th>\n",
       "    </tr>\n",
       "  </thead>\n",
       "  <tbody>\n",
       "    <tr>\n",
       "      <th>0</th>\n",
       "      <td>-1</td>\n",
       "      <td>223</td>\n",
       "      <td>2</td>\n",
       "      <td>2</td>\n",
       "      <td>0</td>\n",
       "      <td>0</td>\n",
       "      <td>0</td>\n",
       "      <td>0</td>\n",
       "      <td>0</td>\n",
       "      <td>0</td>\n",
       "      <td>...</td>\n",
       "      <td>0</td>\n",
       "      <td>0</td>\n",
       "      <td>0</td>\n",
       "      <td>0</td>\n",
       "      <td>0</td>\n",
       "      <td>0</td>\n",
       "      <td>0</td>\n",
       "      <td>0</td>\n",
       "      <td>0</td>\n",
       "      <td>0</td>\n",
       "    </tr>\n",
       "    <tr>\n",
       "      <th>1</th>\n",
       "      <td>1</td>\n",
       "      <td>152</td>\n",
       "      <td>2</td>\n",
       "      <td>2</td>\n",
       "      <td>0</td>\n",
       "      <td>0</td>\n",
       "      <td>0</td>\n",
       "      <td>1</td>\n",
       "      <td>0</td>\n",
       "      <td>-1</td>\n",
       "      <td>...</td>\n",
       "      <td>0</td>\n",
       "      <td>0</td>\n",
       "      <td>0</td>\n",
       "      <td>0</td>\n",
       "      <td>0</td>\n",
       "      <td>0</td>\n",
       "      <td>0</td>\n",
       "      <td>0</td>\n",
       "      <td>0</td>\n",
       "      <td>0</td>\n",
       "    </tr>\n",
       "    <tr>\n",
       "      <th>2</th>\n",
       "      <td>1</td>\n",
       "      <td>131</td>\n",
       "      <td>2</td>\n",
       "      <td>2</td>\n",
       "      <td>0</td>\n",
       "      <td>0</td>\n",
       "      <td>0</td>\n",
       "      <td>1</td>\n",
       "      <td>0</td>\n",
       "      <td>-1</td>\n",
       "      <td>...</td>\n",
       "      <td>0</td>\n",
       "      <td>0</td>\n",
       "      <td>0</td>\n",
       "      <td>0</td>\n",
       "      <td>0</td>\n",
       "      <td>0</td>\n",
       "      <td>0</td>\n",
       "      <td>0</td>\n",
       "      <td>0</td>\n",
       "      <td>0</td>\n",
       "    </tr>\n",
       "    <tr>\n",
       "      <th>3</th>\n",
       "      <td>1</td>\n",
       "      <td>154</td>\n",
       "      <td>2</td>\n",
       "      <td>2</td>\n",
       "      <td>0</td>\n",
       "      <td>0</td>\n",
       "      <td>0</td>\n",
       "      <td>0</td>\n",
       "      <td>0</td>\n",
       "      <td>0</td>\n",
       "      <td>...</td>\n",
       "      <td>0</td>\n",
       "      <td>-1</td>\n",
       "      <td>0</td>\n",
       "      <td>0</td>\n",
       "      <td>0</td>\n",
       "      <td>0</td>\n",
       "      <td>0</td>\n",
       "      <td>0</td>\n",
       "      <td>0</td>\n",
       "      <td>0</td>\n",
       "    </tr>\n",
       "    <tr>\n",
       "      <th>4</th>\n",
       "      <td>-1</td>\n",
       "      <td>171</td>\n",
       "      <td>2</td>\n",
       "      <td>3</td>\n",
       "      <td>0</td>\n",
       "      <td>0</td>\n",
       "      <td>0</td>\n",
       "      <td>0</td>\n",
       "      <td>0</td>\n",
       "      <td>-1</td>\n",
       "      <td>...</td>\n",
       "      <td>0</td>\n",
       "      <td>0</td>\n",
       "      <td>0</td>\n",
       "      <td>0</td>\n",
       "      <td>0</td>\n",
       "      <td>0</td>\n",
       "      <td>0</td>\n",
       "      <td>0</td>\n",
       "      <td>0</td>\n",
       "      <td>0</td>\n",
       "    </tr>\n",
       "  </tbody>\n",
       "</table>\n",
       "<p>5 rows × 115 columns</p>\n",
       "</div>"
      ],
      "text/plain": [
       "   0    1    2    3    4    5    6    7    8    9    ...  106  107  108  109  \\\n",
       "0   -1  223    2    2    0    0    0    0    0    0  ...    0    0    0    0   \n",
       "1    1  152    2    2    0    0    0    1    0   -1  ...    0    0    0    0   \n",
       "2    1  131    2    2    0    0    0    1    0   -1  ...    0    0    0    0   \n",
       "3    1  154    2    2    0    0    0    0    0    0  ...    0   -1    0    0   \n",
       "4   -1  171    2    3    0    0    0    0    0   -1  ...    0    0    0    0   \n",
       "\n",
       "   110  112  113  114  115  116  \n",
       "0    0    0    0    0    0    0  \n",
       "1    0    0    0    0    0    0  \n",
       "2    0    0    0    0    0    0  \n",
       "3    0    0    0    0    0    0  \n",
       "4    0    0    0    0    0    0  \n",
       "\n",
       "[5 rows x 115 columns]"
      ]
     },
     "execution_count": 3,
     "metadata": {},
     "output_type": "execute_result"
    }
   ],
   "source": [
    "training.head(5)"
   ]
  },
  {
   "cell_type": "code",
   "execution_count": 4,
   "metadata": {},
   "outputs": [
    {
     "data": {
      "text/html": [
       "<div>\n",
       "<style scoped>\n",
       "    .dataframe tbody tr th:only-of-type {\n",
       "        vertical-align: middle;\n",
       "    }\n",
       "\n",
       "    .dataframe tbody tr th {\n",
       "        vertical-align: top;\n",
       "    }\n",
       "\n",
       "    .dataframe thead th {\n",
       "        text-align: right;\n",
       "    }\n",
       "</style>\n",
       "<table border=\"1\" class=\"dataframe\">\n",
       "  <thead>\n",
       "    <tr style=\"text-align: right;\">\n",
       "      <th></th>\n",
       "      <th>0</th>\n",
       "      <th>1</th>\n",
       "      <th>2</th>\n",
       "      <th>3</th>\n",
       "      <th>4</th>\n",
       "      <th>5</th>\n",
       "      <th>6</th>\n",
       "      <th>7</th>\n",
       "      <th>8</th>\n",
       "      <th>9</th>\n",
       "      <th>...</th>\n",
       "      <th>106</th>\n",
       "      <th>107</th>\n",
       "      <th>108</th>\n",
       "      <th>109</th>\n",
       "      <th>110</th>\n",
       "      <th>112</th>\n",
       "      <th>113</th>\n",
       "      <th>114</th>\n",
       "      <th>115</th>\n",
       "      <th>116</th>\n",
       "    </tr>\n",
       "  </thead>\n",
       "  <tbody>\n",
       "    <tr>\n",
       "      <th>0</th>\n",
       "      <td>-1</td>\n",
       "      <td>223</td>\n",
       "      <td>8</td>\n",
       "      <td>2</td>\n",
       "      <td>0</td>\n",
       "      <td>-1</td>\n",
       "      <td>0</td>\n",
       "      <td>0</td>\n",
       "      <td>0</td>\n",
       "      <td>0</td>\n",
       "      <td>...</td>\n",
       "      <td>0</td>\n",
       "      <td>-1</td>\n",
       "      <td>0</td>\n",
       "      <td>0</td>\n",
       "      <td>0</td>\n",
       "      <td>0</td>\n",
       "      <td>0</td>\n",
       "      <td>0</td>\n",
       "      <td>0</td>\n",
       "      <td>0</td>\n",
       "    </tr>\n",
       "    <tr>\n",
       "      <th>1</th>\n",
       "      <td>1</td>\n",
       "      <td>227</td>\n",
       "      <td>8</td>\n",
       "      <td>2</td>\n",
       "      <td>0</td>\n",
       "      <td>0</td>\n",
       "      <td>0</td>\n",
       "      <td>0</td>\n",
       "      <td>0</td>\n",
       "      <td>0</td>\n",
       "      <td>...</td>\n",
       "      <td>0</td>\n",
       "      <td>-1</td>\n",
       "      <td>0</td>\n",
       "      <td>0</td>\n",
       "      <td>0</td>\n",
       "      <td>0</td>\n",
       "      <td>0</td>\n",
       "      <td>0</td>\n",
       "      <td>0</td>\n",
       "      <td>0</td>\n",
       "    </tr>\n",
       "    <tr>\n",
       "      <th>2</th>\n",
       "      <td>-1</td>\n",
       "      <td>136</td>\n",
       "      <td>2</td>\n",
       "      <td>2</td>\n",
       "      <td>1</td>\n",
       "      <td>0</td>\n",
       "      <td>0</td>\n",
       "      <td>0</td>\n",
       "      <td>-1</td>\n",
       "      <td>0</td>\n",
       "      <td>...</td>\n",
       "      <td>0</td>\n",
       "      <td>0</td>\n",
       "      <td>0</td>\n",
       "      <td>0</td>\n",
       "      <td>0</td>\n",
       "      <td>0</td>\n",
       "      <td>0</td>\n",
       "      <td>0</td>\n",
       "      <td>0</td>\n",
       "      <td>0</td>\n",
       "    </tr>\n",
       "    <tr>\n",
       "      <th>3</th>\n",
       "      <td>1</td>\n",
       "      <td>227</td>\n",
       "      <td>2</td>\n",
       "      <td>2</td>\n",
       "      <td>-1</td>\n",
       "      <td>0</td>\n",
       "      <td>0</td>\n",
       "      <td>0</td>\n",
       "      <td>0</td>\n",
       "      <td>0</td>\n",
       "      <td>...</td>\n",
       "      <td>0</td>\n",
       "      <td>0</td>\n",
       "      <td>0</td>\n",
       "      <td>0</td>\n",
       "      <td>0</td>\n",
       "      <td>0</td>\n",
       "      <td>0</td>\n",
       "      <td>0</td>\n",
       "      <td>0</td>\n",
       "      <td>0</td>\n",
       "    </tr>\n",
       "    <tr>\n",
       "      <th>4</th>\n",
       "      <td>1</td>\n",
       "      <td>184</td>\n",
       "      <td>2</td>\n",
       "      <td>3</td>\n",
       "      <td>0</td>\n",
       "      <td>0</td>\n",
       "      <td>0</td>\n",
       "      <td>-1</td>\n",
       "      <td>0</td>\n",
       "      <td>0</td>\n",
       "      <td>...</td>\n",
       "      <td>0</td>\n",
       "      <td>0</td>\n",
       "      <td>0</td>\n",
       "      <td>0</td>\n",
       "      <td>0</td>\n",
       "      <td>0</td>\n",
       "      <td>0</td>\n",
       "      <td>0</td>\n",
       "      <td>0</td>\n",
       "      <td>0</td>\n",
       "    </tr>\n",
       "  </tbody>\n",
       "</table>\n",
       "<p>5 rows × 115 columns</p>\n",
       "</div>"
      ],
      "text/plain": [
       "   0    1    2    3    4    5    6    7    8    9    ...  106  107  108  109  \\\n",
       "0   -1  223    8    2    0   -1    0    0    0    0  ...    0   -1    0    0   \n",
       "1    1  227    8    2    0    0    0    0    0    0  ...    0   -1    0    0   \n",
       "2   -1  136    2    2    1    0    0    0   -1    0  ...    0    0    0    0   \n",
       "3    1  227    2    2   -1    0    0    0    0    0  ...    0    0    0    0   \n",
       "4    1  184    2    3    0    0    0   -1    0    0  ...    0    0    0    0   \n",
       "\n",
       "   110  112  113  114  115  116  \n",
       "0    0    0    0    0    0    0  \n",
       "1    0    0    0    0    0    0  \n",
       "2    0    0    0    0    0    0  \n",
       "3    0    0    0    0    0    0  \n",
       "4    0    0    0    0    0    0  \n",
       "\n",
       "[5 rows x 115 columns]"
      ]
     },
     "execution_count": 4,
     "metadata": {},
     "output_type": "execute_result"
    }
   ],
   "source": [
    "testing.head(5)"
   ]
  },
  {
   "cell_type": "code",
   "execution_count": 5,
   "metadata": {},
   "outputs": [
    {
     "data": {
      "image/png": "[encoded data removed]",
      "text/plain": [
       "<Figure size 7200x2160 with 2 Axes>"
      ]
     },
     "metadata": {
      "needs_background": "light"
     },
     "output_type": "display_data"
    }
   ],
   "source": [
    "corr = training.corr()\n",
    "fig = plt.figure(figsize=(100,30))\n",
    "ax = fig.add_subplot(111)\n",
    "cax = ax.matshow(corr,cmap='coolwarm', vmin=-1, vmax=1)\n",
    "fig.colorbar(cax)\n",
    "ticks = np.arange(0,len(training.columns),1)\n",
    "ax.set_xticks(ticks)\n",
    "plt.xticks(rotation=90)\n",
    "ax.set_yticks(ticks)\n",
    "ax.set_xticklabels(training.columns)\n",
    "ax.set_yticklabels(training.columns)\n",
    "plt.show()"
   ]
  },
  {
   "cell_type": "markdown",
   "metadata": {},
   "source": [
    "## Grid Search on Logistic Regression"
   ]
  },
  {
   "cell_type": "code",
   "execution_count": 6,
   "metadata": {},
   "outputs": [
    {
     "name": "stdout",
     "output_type": "stream",
     "text": [
      "C: 10.03125\n",
      "Penalty: l2\n",
      "Solver: lbfgs\n"
     ]
    }
   ],
   "source": [
    "log_grid = {'C':[9.96875,10.0,10.03125], 'solver':['lbfgs']}\n",
    "\n",
    "log_reg = GSCV(LogisticRegression(max_iter=1000, n_jobs=-1), log_grid)\n",
    "log_reg.fit(training_data,training_target)\n",
    "\n",
    "print('C:',log_reg.best_estimator_.C)                    #1.0,1.0,10,10,10,10,10\n",
    "print('Penalty:',log_reg.best_estimator_.penalty)        #l1,l2,l2,l2,l2,l2,l2\n",
    "print('Solver:',log_reg.best_estimator_.solver)          #liblinear,lbfgs,lbfgs,lbfgs,lbfgs,lbfgs,lbfgs"
   ]
  },
  {
   "cell_type": "markdown",
   "metadata": {},
   "source": [
    "## Logistic Regression"
   ]
  },
  {
   "cell_type": "code",
   "execution_count": 7,
   "metadata": {},
   "outputs": [
    {
     "name": "stdout",
     "output_type": "stream",
     "text": [
      "Accuracy:  59.78239751311444 %\n"
     ]
    }
   ],
   "source": [
    "logistic_regressor = LogisticRegression(C=10,solver='lbfgs',max_iter=400,n_jobs=-1)\n",
    "logistic_regressor.fit(training_data,training_target)\n",
    "lr_pred = logistic_regressor.predict(testing_data)\n",
    "print(\"Accuracy: \", acc(lr_pred, testing_target)*100, \"%\")"
   ]
  },
  {
   "cell_type": "markdown",
   "metadata": {},
   "source": [
    "# Decision Tree"
   ]
  },
  {
   "cell_type": "markdown",
   "metadata": {},
   "source": [
    "## Entropy"
   ]
  },
  {
   "cell_type": "code",
   "execution_count": 8,
   "metadata": {},
   "outputs": [
    {
     "name": "stdout",
     "output_type": "stream",
     "text": [
      "Accuracy with depth of Tree as 10 :  55.15834466679619 %\n",
      "Accuracy with depth of Tree as 11 :  55.14863027006023 %\n",
      "Accuracy with depth of Tree as 12 :  55.109772683116375 %\n",
      "Accuracy with depth of Tree as 13 :  55.3137750145716 %\n",
      "Accuracy with depth of Tree as 14 :  55.61492131338643 %\n",
      "Accuracy with depth of Tree as 15 :  55.55663493297066 %\n",
      "Accuracy with depth of Tree as 16 :  55.595492519914515 %\n",
      "Accuracy with depth of Tree as 17 :  55.789780454633764 %\n",
      "Accuracy with depth of Tree as 18 :  55.52749174276277 %\n",
      "Accuracy with depth of Tree as 19 :  55.28463182436371 %\n",
      "Accuracy with depth of Tree as 20 :  55.66349329706626 %\n"
     ]
    },
    {
     "name": "stderr",
     "output_type": "stream",
     "text": [
      "dot: graph is too large for cairo-renderer bitmaps. Scaling by 0.35619 to fit\n"
     ]
    }
   ],
   "source": [
    "## 1 ENTROPY\n",
    "m1, pos1 = -1, -1\n",
    "FEATURE_NAMES = [' Cluster ID', 'Game mode', 'Game type']\n",
    "for i in range(1,112):\n",
    "    FEATURE_NAMES.append('Hero '+str(i))\n",
    "for i in range(10,21):\n",
    "    clf1 = DecisionTreeClassifier(criterion = \"entropy\", max_depth = i)\n",
    "    clf1 = clf1.fit(training_data,training_target)\n",
    "    y_pred1 = clf1.predict(testing_data)\n",
    "    print(\"Accuracy with depth of Tree as\",i,\": \" , acc(y_pred1, testing_target)*100,\"%\")\n",
    "    if acc(y_pred1, testing_target)*100 > m1:\n",
    "        pos1 = i\n",
    "        m1 = acc(y_pred1, testing_target)*100\n",
    "        export_graphviz(clf1, 'tree1.dot', feature_names = FEATURE_NAMES)\n",
    "\n",
    "! dot -Tpng tree1.dot -o tree1.png"
   ]
  },
  {
   "cell_type": "markdown",
   "metadata": {},
   "source": [
    "## Gini Index"
   ]
  },
  {
   "cell_type": "code",
   "execution_count": 9,
   "metadata": {},
   "outputs": [
    {
     "name": "stdout",
     "output_type": "stream",
     "text": [
      "Accuracy with depth of Tree as 15 :  55.64406450359433 %\n",
      "Accuracy with depth of Tree as 16 :  55.508062949290846 %\n",
      "Accuracy with depth of Tree as 17 :  55.66349329706626 %\n",
      "Accuracy with depth of Tree as 18 :  55.294346221099666 %\n",
      "Accuracy with depth of Tree as 19 :  55.40120458519526 %\n",
      "Accuracy with depth of Tree as 20 :  55.624635710122405 %\n",
      "Accuracy with depth of Tree as 21 :  55.63435010685836 %\n",
      "Accuracy with depth of Tree as 22 :  55.780066057897805 %\n",
      "Accuracy with depth of Tree as 23 :  55.03205750922868 %\n",
      "Accuracy with depth of Tree as 24 :  55.15834466679619 %\n",
      "Accuracy with depth of Tree as 25 :  55.06120069943656 %\n"
     ]
    },
    {
     "name": "stderr",
     "output_type": "stream",
     "text": [
      "dot: graph is too large for cairo-renderer bitmaps. Scaling by 0.259726 to fit\n"
     ]
    }
   ],
   "source": [
    "## 2 GINI\n",
    "m2, pos2 = -1, -1\n",
    "FEATURE_NAMES = [' Cluster ID', 'Game mode', 'Game type']\n",
    "for i in range(1,112):\n",
    "    FEATURE_NAMES.append('Hero '+str(i))\n",
    "for i in range(15,26):\n",
    "    clf2 = DecisionTreeClassifier(criterion = \"gini\", max_depth = i)\n",
    "    clf2 = clf2.fit(training_data,training_target)\n",
    "    y_pred2 = clf2.predict(testing_data)\n",
    "    print(\"Accuracy with depth of Tree as\",i,\": \" , acc(y_pred2, testing_target)*100,\"%\")\n",
    "    if acc(y_pred1, testing_target)*100 > m2:\n",
    "        pos2 = i\n",
    "        m2 = acc(y_pred1, testing_target)*100\n",
    "        export_graphviz(clf1, 'tree2.dot', feature_names = FEATURE_NAMES)\n",
    "\n",
    "! dot -Tpng tree2.dot -o tree2.png"
   ]
  },
  {
   "cell_type": "markdown",
   "metadata": {},
   "source": [
    "# Naive Bayes"
   ]
  },
  {
   "cell_type": "markdown",
   "metadata": {},
   "source": [
    "## Bernoulli"
   ]
  },
  {
   "cell_type": "code",
   "execution_count": 10,
   "metadata": {},
   "outputs": [
    {
     "name": "stdout",
     "output_type": "stream",
     "text": [
      "Accuracy:  57.217796774820286 %\n"
     ]
    }
   ],
   "source": [
    "bnb = BNB()\n",
    "bnb.fit(training_data,training_target)\n",
    "bnb_pred = bnb.predict(testing_data)\n",
    "print(\"Accuracy: \", acc(bnb_pred, testing_target)*100, \"%\")"
   ]
  },
  {
   "cell_type": "markdown",
   "metadata": {},
   "source": [
    "## Gaussian"
   ]
  },
  {
   "cell_type": "code",
   "execution_count": 11,
   "metadata": {},
   "outputs": [
    {
     "name": "stdout",
     "output_type": "stream",
     "text": [
      "Accuracy:  56.40178744899942 %\n"
     ]
    }
   ],
   "source": [
    "gnb = GNB()\n",
    "gnb.fit(training_data,training_target)\n",
    "gnb_pred = gnb.predict(testing_data)\n",
    "print(\"Accuracy: \", acc(gnb_pred, testing_target)*100, \"%\")"
   ]
  },
  {
   "cell_type": "markdown",
   "metadata": {},
   "source": [
    "##  Multinomial"
   ]
  },
  {
   "cell_type": "code",
   "execution_count": 12,
   "metadata": {},
   "outputs": [
    {
     "name": "stdout",
     "output_type": "stream",
     "text": [
      "Accuracy:  53.45832523800272 %\n"
     ]
    },
    {
     "name": "stderr",
     "output_type": "stream",
     "text": [
      "C:\\ProgramData\\Anaconda3\\lib\\site-packages\\sklearn\\utils\\validation.py:760: DataConversionWarning: A column-vector y was passed when a 1d array was expected. Please change the shape of y to (n_samples, ), for example using ravel().\n",
      "  y = column_or_1d(y, warn=True)\n"
     ]
    }
   ],
   "source": [
    "#MinMaxScaling to avoid negative values to be fed in Multinomial Naive Bayes\n",
    "mms = MMS()\n",
    "training_data_temp = mms.fit_transform(training_data)\n",
    "testing_data_temp = mms.transform(testing_data)\n",
    "\n",
    "training_data_mms = pd.DataFrame(data=training_data_temp[:,:])\n",
    "testing_data_mms = pd.DataFrame(data=testing_data_temp[:,:])\n",
    "training_target_mms = training_target.values.reshape(-1,1)\n",
    "testing_target_mms = testing_target.values.reshape(-1,1)\n",
    "\n",
    "mnb = MNB()\n",
    "mnb.fit(training_data_mms,training_target_mms)\n",
    "mnb_pred = mnb.predict(testing_data_mms)\n",
    "print(\"Accuracy: \", acc(mnb_pred, testing_target)*100, \"%\")"
   ]
  },
  {
   "cell_type": "markdown",
   "metadata": {},
   "source": [
    "# AdaBoost Classifier"
   ]
  },
  {
   "cell_type": "code",
   "execution_count": 13,
   "metadata": {},
   "outputs": [
    {
     "name": "stdout",
     "output_type": "stream",
     "text": [
      "Accuracy:  59.18981931222071 %\n"
     ]
    }
   ],
   "source": [
    "abc = ABC(n_estimators=110)\n",
    "abc.fit(training_data,training_target)\n",
    "abc_pred = abc.predict(testing_data)\n",
    "print(\"Accuracy: \", acc(abc_pred, testing_target)*100, \"%\")"
   ]
  }
 ],
 "metadata": {
  "kernelspec": {
   "display_name": "Python 3",
   "language": "python",
   "name": "python3"
  },
  "language_info": {
   "codemirror_mode": {
    "name": "ipython",
    "version": 3
   },
   "file_extension": ".py",
   "mimetype": "text/x-python",
   "name": "python",
   "nbconvert_exporter": "python",
   "pygments_lexer": "ipython3",
   "version": "3.8.3"
  }
 },
 "nbformat": 4,
 "nbformat_minor": 4
}
